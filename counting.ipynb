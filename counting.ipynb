{
 "cells": [
  {
   "cell_type": "code",
   "execution_count": 4,
   "metadata": {},
   "outputs": [
    {
     "name": "stdout",
     "output_type": "stream",
     "text": [
      "\n",
      "0: 640x640 1 clock, 135.4ms\n",
      "Speed: 5.6ms preprocess, 135.4ms inference, 8.2ms postprocess per image at shape (1, 3, 640, 640)\n"
     ]
    }
   ],
   "source": [
    "from ultralytics import YOLO\n",
    "import cv2\n",
    "\n",
    "# Load model YOLOv8 pre-trained\n",
    "model = YOLO(\"yolov8n.pt\")  # Hoặc yolov8s.pt, yolov8m.pt, tùy yêu cầu\n",
    "\n",
    "# Đọc ảnh\n",
    "image_path = \"cat.jpg\"\n",
    "image = cv2.imread(image_path)\n",
    "\n",
    "# Dự đoán\n",
    "results = model(image)\n",
    "\n",
    "# Vẽ bounding box lên ảnh\n",
    "for result in results:\n",
    "    for box in result.boxes:\n",
    "        x1, y1, x2, y2 = map(int, box.xyxy[0])  # Lấy tọa độ box\n",
    "        conf = box.conf[0].item()  # Độ chính xác\n",
    "        label = result.names[int(box.cls[0])]  # Tên vật thể\n",
    "        \n",
    "        cv2.rectangle(image, (x1, y1), (x2, y2), (0, 255, 0), 2)\n",
    "        cv2.putText(image, f\"{label} {conf:.2f}\", (x1, y1 - 10), \n",
    "                    cv2.FONT_HERSHEY_SIMPLEX, 0.5, (0, 255, 0), 2)\n",
    "\n",
    "# Hiển thị ảnh\n",
    "cv2.imshow(\"YOLO Detection\", image)\n",
    "cv2.waitKey(0)\n",
    "cv2.destroyAllWindows()\n"
   ]
  },
  {
   "cell_type": "code",
   "execution_count": 60,
   "metadata": {},
   "outputs": [
    {
     "name": "stdout",
     "output_type": "stream",
     "text": [
      "Số lượng đối tượng đếm được: 59\n"
     ]
    },
    {
     "data": {
      "text/plain": [
       "59"
      ]
     },
     "execution_count": 60,
     "metadata": {},
     "output_type": "execute_result"
    }
   ],
   "source": [
    "import cv2\n",
    "import numpy as np\n",
    "\n",
    "def count_objects_edge_based(image_path):\n",
    "    # Đọc ảnh\n",
    "    image = cv2.imread(image_path)\n",
    "    gray = cv2.cvtColor(image, cv2.COLOR_BGR2GRAY)\n",
    "    \n",
    "    # Làm mịn ảnh để giảm nhiễu\n",
    "    blurred = cv2.GaussianBlur(gray, (5, 5), 0)\n",
    "    \n",
    "    # Tính trung vị của ảnh\n",
    "    median_value = np.median(blurred)\n",
    "    low_threshold = int(0.33 * median_value)\n",
    "    high_threshold = int(1.33 * median_value)\n",
    "    edges = cv2.Canny(blurred, low_threshold, high_threshold)\n",
    "    \n",
    "    # Tạo kernel (structuring element)\n",
    "    kernel = np.ones((1, 1), np.uint8)\n",
    "    # Áp dụng phép mở (Opening) để loại bỏ chi tiết nhỏ\n",
    "    processed = cv2.morphologyEx(edges, cv2.MORPH_OPEN, kernel)\n",
    "\n",
    "    kernel = np.ones((3, 3), np.uint8)\n",
    "    # Thực hiện phép dilation\n",
    "    dilated = cv2.dilate(processed, kernel, iterations=1)\n",
    "\n",
    "    # Tìm contours từ biên cạnh\n",
    "    contours, _ = cv2.findContours(dilated, cv2.RETR_EXTERNAL, cv2.CHAIN_APPROX_SIMPLE)\n",
    "    \n",
    "    # Vẽ contours lên ảnh gốc\n",
    "    result = image.copy()\n",
    "    cv2.drawContours(result, contours, -1, (0, 255, 0), 2)\n",
    "    \n",
    "    # Đếm số lượng đối tượng\n",
    "    num_objects = len(contours)\n",
    "    print(f\"Số lượng đối tượng đếm được: {num_objects}\")\n",
    "    \n",
    "    # Hiển thị kết quả\n",
    "    #cv2.imshow(\"Edge-based Detection\", dilated)\n",
    "    cv2.imshow(\"Edge-based Detection\", result)\n",
    "    cv2.waitKey(0)\n",
    "    cv2.destroyAllWindows()\n",
    "    \n",
    "    return num_objects\n",
    "\n",
    "# Gọi hàm với đường dẫn ảnh\n",
    "image_path = \"cat.jpg\"  # Thay bằng đường dẫn ảnh của bạn\n",
    "count_objects_edge_based(image_path)\n"
   ]
  },
  {
   "cell_type": "code",
   "execution_count": null,
   "metadata": {},
   "outputs": [],
   "source": [
    "import cv2\n",
    "import numpy as np\n",
    "\n",
    "# Đọc ảnh xám\n",
    "img = cv2.imread(\"cat.jpg\", cv2.IMREAD_GRAYSCALE)\n",
    "#img = cv2.imread(\"cat.jpg\")\n",
    "\n",
    "# Tạo kernel (cấu trúc hình dạng để erode)\n",
    "kernel = np.ones((3, 3), np.uint8)\n",
    "\n",
    "# Thực hiện phép erosion\n",
    "eroded = cv2.erode(img, kernel, iterations=1)\n",
    "\n",
    "edges = img - eroded\n",
    "\n",
    "# Hiển thị kết quả\n",
    "cv2.imshow(\"Original\", img)\n",
    "cv2.imshow(\"Eroded\", edges)\n",
    "cv2.waitKey(0)\n",
    "cv2.destroyAllWindows()\n"
   ]
  },
  {
   "cell_type": "code",
   "execution_count": 69,
   "metadata": {},
   "outputs": [
    {
     "name": "stdout",
     "output_type": "stream",
     "text": [
      "Số lượng đối tượng đếm được: 125\n"
     ]
    }
   ],
   "source": [
    "import cv2\n",
    "import numpy as np\n",
    "\n",
    "# Đọc ảnh xám\n",
    "img = cv2.imread(\"rabbit.jpeg\", cv2.IMREAD_GRAYSCALE)\n",
    "\n",
    "#dilation\n",
    "kernel = np.ones((5, 5), np.uint8)\n",
    "dilated = cv2.dilate(img, kernel, iterations=1)\n",
    "\n",
    "#erode\n",
    "kernel = np.ones((3, 3), np.uint8)\n",
    "eroded = cv2.erode(dilated, kernel, iterations=1)\n",
    "\n",
    "# Xóa cạnh bằng cách trừ ảnh gốc\n",
    "#edges_removed = dilated - img\n",
    "\n",
    "median_value = np.median(dilated)\n",
    "low_threshold = int(0.33 * median_value)\n",
    "high_threshold = int(1.33 * median_value)\n",
    "edges = cv2.Canny(eroded, low_threshold, high_threshold)\n",
    "\n",
    "contours, _ = cv2.findContours(edges, cv2.RETR_EXTERNAL, cv2.CHAIN_APPROX_SIMPLE)\n",
    "\n",
    "# Vẽ contours lên ảnh gốc\n",
    "result = img.copy()\n",
    "cv2.drawContours(result, contours, -1, (0, 255, 0), 2)\n",
    "\n",
    "# Đếm số lượng đối tượng\n",
    "num_objects = len(contours)\n",
    "print(f\"Số lượng đối tượng đếm được: {num_objects}\")\n",
    "\n",
    "# Hiển thị kết quả\n",
    "cv2.imshow(\"hmmmm\", eroded)\n",
    "cv2.imshow(\"Dilated\", dilated)\n",
    "cv2.imshow(\"Edge-based Detection\", result)\n",
    "cv2.waitKey(0)\n",
    "cv2.destroyAllWindows()\n"
   ]
  },
  {
   "cell_type": "code",
   "execution_count": 62,
   "metadata": {},
   "outputs": [],
   "source": [
    "import cv2\n",
    "import numpy as np\n",
    "\n",
    "# 1. Đọc ảnh\n",
    "img = cv2.imread(\"cat.jpg\")\n",
    "\n",
    "# 2. Tạo mặt nạ xác định vùng màu đen và màu gần đen\n",
    "threshold = 50  # Ngưỡng để xác định màu gần đen\n",
    "mask_black = np.all(img < threshold, axis=-1)\n",
    "\n",
    "# 3. Chuyển tất cả màu không phải đen (hoặc gần đen) thành xanh lá\n",
    "img[~mask_black] = [0, 255, 0]\n",
    "\n",
    "# 4. Chuyển ảnh sang xám\n",
    "gray = cv2.cvtColor(img, cv2.COLOR_BGR2GRAY)\n",
    "\n",
    "# 5. Xác định vùng không phải màu xanh lá\n",
    "green_gray_value = gray[~mask_black][0]  # Giá trị xám của màu xanh lá\n",
    "mask_not_green = gray != green_gray_value\n",
    "\n",
    "# 6. Chuyển các vùng không phải xanh lá thành trắng\n",
    "gray[mask_not_green] = 255\n",
    "\n",
    "\n",
    "median_value = np.median(dilated)\n",
    "low_threshold = int(0.33 * median_value)\n",
    "high_threshold = int(1.33 * median_value)\n",
    "edges = cv2.Canny(gray, low_threshold, high_threshold)\n",
    "\n",
    "# Hiển thị kết quả\n",
    "cv2.imshow(\"Green Masked\", edges)\n",
    "cv2.imshow(\"Final Gray\", gray)\n",
    "cv2.waitKey(0)\n",
    "cv2.destroyAllWindows()\n"
   ]
  }
 ],
 "metadata": {
  "kernelspec": {
   "display_name": "Python 3",
   "language": "python",
   "name": "python3"
  },
  "language_info": {
   "codemirror_mode": {
    "name": "ipython",
    "version": 3
   },
   "file_extension": ".py",
   "mimetype": "text/x-python",
   "name": "python",
   "nbconvert_exporter": "python",
   "pygments_lexer": "ipython3",
   "version": "3.10.0"
  }
 },
 "nbformat": 4,
 "nbformat_minor": 2
}
